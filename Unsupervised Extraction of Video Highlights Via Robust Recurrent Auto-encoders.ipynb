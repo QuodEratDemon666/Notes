{
 "cells": [
  {
   "cell_type": "markdown",
   "metadata": {},
   "source": [
    "![](./images/F361FE45.png)\n",
    "\n",
    "Based on the idea that the most significant sub-events within a video class are commonly present among edited videos while less interesting ones appear less frequently"
   ]
  },
  {
   "cell_type": "markdown",
   "metadata": {},
   "source": [
    "## 4.1. Overview"
   ]
  },
  {
   "cell_type": "markdown",
   "metadata": {},
   "source": [
    "### Acquisition of Training Data\n",
    "\n",
    "Training video set: $S = \\left \\{ v_1, v_2, \\dots, v_N \\right \\}$"
   ]
  },
  {
   "cell_type": "markdown",
   "metadata": {},
   "source": [
    "### Temporal Segmentation\n",
    "\n",
    "```\n",
    "D. Potapov, M. Douze, Z. Harchaoui, and C. Schmid. Category-specific video summarization. In Computer Vision - ECCV 2014,Part VI, pages 540–555, 2014.\n",
    "```\n",
    "\n",
    "Number of frames within each snippet lies in the range of $\\left [ 48, 96 \\right ]$"
   ]
  },
  {
   "cell_type": "markdown",
   "metadata": {},
   "source": [
    "### Feature Representation\n",
    "\n",
    "C3D features:\n",
    "    \n",
    "```\n",
    "D. Tran, L. D. Bourdev, R. Fergus, L. Torresani, and M. Paluri. C3D: generic features for video analysis. CoRR, 2014.\n",
    "```\n",
    "\n",
    "Sets of 116 input frames => 3D convolutional filters => FC6 (b) => temporal mean pooling (c) => auto-encoder (d)\n",
    "\n",
    "![](./images/00D0EE3F.png)"
   ]
  },
  {
   "cell_type": "markdown",
   "metadata": {},
   "source": [
    "## 4.2. Robust Auto-encoder Via Shrinking Exponential Loss"
   ]
  },
  {
   "cell_type": "markdown",
   "metadata": {},
   "source": [
    "Crawl data from web => no guarantee\n",
    "\n",
    "$$\\begin{array}{rcl}\n",
    "L(x, y) &=& \\left ( \\left \\| x - y \\right \\| ^2_2 \\right ) ^ \\lambda \\\\\n",
    "\\lambda &=& f(epo)\n",
    "\\end{array}$$\n",
    "\n",
    "$\\lambda$: a function $f$ of the current epoch number $epo$\n",
    "\n",
    "$$f(epo) = s - \\frac{epo * (s - e)}{\\Gamma}$$\n",
    "\n",
    "$\\lambda$ varies linearly in $[e, s]$, $\\Gamma$ is the total number of training epochs"
   ]
  },
  {
   "cell_type": "markdown",
   "metadata": {},
   "source": [
    "## 4.3. Recurrent Auto-Encoder with LSTM Cells"
   ]
  },
  {
   "cell_type": "markdown",
   "metadata": {},
   "source": [
    "bidirectional LSTM cells"
   ]
  }
 ],
 "metadata": {
  "kernelspec": {
   "display_name": "Python 2",
   "language": "python",
   "name": "python2"
  },
  "language_info": {
   "codemirror_mode": {
    "name": "ipython",
    "version": 2
   },
   "file_extension": ".py",
   "mimetype": "text/x-python",
   "name": "python",
   "nbconvert_exporter": "python",
   "pygments_lexer": "ipython2",
   "version": "2.7.12"
  }
 },
 "nbformat": 4,
 "nbformat_minor": 0
}
