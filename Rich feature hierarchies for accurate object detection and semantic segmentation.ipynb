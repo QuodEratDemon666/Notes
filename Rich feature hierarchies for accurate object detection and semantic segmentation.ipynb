{
 "cells": [
  {
   "cell_type": "markdown",
   "metadata": {},
   "source": [
    "![](./images/D0AE2F3B.png)\n",
    "\n",
    "https://arxiv.org/pdf/1311.2524.pdf\n",
    "\n",
    "* Generates category-independent region proposals\n",
    "* Extracts a fixed-length feature vector from each region\n",
    "* A set of classspecific linear SVMs"
   ]
  },
  {
   "cell_type": "markdown",
   "metadata": {},
   "source": [
    "## 2.1. Module design"
   ]
  },
  {
   "cell_type": "markdown",
   "metadata": {},
   "source": [
    "### Region proposals\n",
    "\n",
    "* objectness [1]\n",
    "* __selective search__ [39]\n",
    "* category-independent object proposals [14]\n",
    "* constrained parametric min-cuts (CPMC) [5]\n",
    "* multi-scale combinatorial grouping  [3]\n",
    "* Ciresan et al. [6]\n",
    "\n",
    "---\n",
    "\n",
    "* [1]: B. Alexe, T. Deselaers, and V. Ferrari. Measuring the objectness of image windows. TPAMI, 2012.\n",
    "* [14]: I. Endres and D. Hoiem. Category independent object proposals. In ECCV, 2010.\n",
    "* [5]: J. Carreira and C. Sminchisescu. CPMC: Automatic object segmentation using constrained parametric min-cuts. TPAMI, 2012.\n",
    "* [3]: P. Arbelaez, J. Pont-Tuset, J. Barron, F. Marques, and J. Malik. Multiscale combinatorial grouping. In CVPR, 2014.\n",
    "* [6]: D. Cires¸an, A. Giusti, L. Gambardella, and J. Schmidhuber. Mitosis detection in breast cancer histology images with deep neural networks. In MICCAI, 2013."
   ]
  },
  {
   "cell_type": "markdown",
   "metadata": {},
   "source": [
    "### Feature extraction\n",
    "\n",
    " $227 \\times 227$ RGB  => 4096-d feature vector for each eregion proposal [24, 25]\n",
    "\n",
    "dilate the tight bounding box => there are exactly $p=16$ pixels of warped image context around the original box\n",
    "\n",
    "warp all pixels in a tight bounding box around it to the required size\n",
    "\n",
    "---\n",
    "\n",
    "* [24]: Y. Jia. Caffe: An open source convolutional architecture for fast feature embedding. http://caffe.berkeleyvision.org/, 2013.\n",
    "* [25]: A. Krizhevsky, I. Sutskever, and G. Hinton. ImageNet classification with deep convolutional neural networks. In NIPS, 2012."
   ]
  },
  {
   "cell_type": "markdown",
   "metadata": {},
   "source": [
    "## 2.2. Test-time detection\n",
    "\n",
    "2000 region proposals\n",
    "\n",
    "NMR => rejects a region if it has an IoU overlap with a higher scoring selected region larger than a learned threshold."
   ]
  },
  {
   "cell_type": "markdown",
   "metadata": {},
   "source": [
    "## 2.3. Traning"
   ]
  },
  {
   "cell_type": "markdown",
   "metadata": {},
   "source": [
    "### Supervised pre-training"
   ]
  },
  {
   "cell_type": "markdown",
   "metadata": {},
   "source": [
    "pre-trained the CNN on a large auxiliary dataset ILSVRC2012 using _image-level annotations_ only"
   ]
  },
  {
   "cell_type": "markdown",
   "metadata": {},
   "source": [
    "### Domain-specific fine-tuning\n",
    "\n",
    "only warped region proposals\n",
    "\n",
    "$(N + 1)$-way classification layer (where $N$ is the number of object classes, plus 1 for background)\n",
    "\n",
    "$\\ge 0.5$ IoU overlap as positives\n",
    "\n",
    "start SGD at a learning rate of 0.001\n",
    "\n",
    "in each iteration, uniformly sample 32 positive windows and 96 backgraound windows"
   ]
  },
  {
   "cell_type": "markdown",
   "metadata": {},
   "source": [
    "### Object category classifiers\n",
    "\n",
    " $\\ge 0.3$ IoU overlap as positives\n",
    " \n",
    " SVM\n",
    " \n",
    " standard hard negative mining method [17,37]\n",
    " \n",
    " ---\n",
    " \n",
    " * [17]: P. Felzenszwalb, R. Girshick, D. McAllester, and D. Ramanan. Object detection with discriminatively trained part based models. TPAMI, 2010.\n",
    " * [37]: K. Sung and T. Poggio. Example-based learning for viewbased human face detection. Technical Report A.I. Memo No. 1521, Massachussets Institute of Technology, 1994."
   ]
  }
 ],
 "metadata": {
  "kernelspec": {
   "display_name": "Python 2",
   "language": "python",
   "name": "python2"
  },
  "language_info": {
   "codemirror_mode": {
    "name": "ipython",
    "version": 2
   },
   "file_extension": ".py",
   "mimetype": "text/x-python",
   "name": "python",
   "nbconvert_exporter": "python",
   "pygments_lexer": "ipython2",
   "version": "2.7.12"
  }
 },
 "nbformat": 4,
 "nbformat_minor": 0
}
