{
 "cells": [
  {
   "cell_type": "markdown",
   "metadata": {},
   "source": [
    "![](./images/F76A6CEE.png)\n",
    "\n",
    "https://arxiv.org/pdf/1506.01497.pdf\n",
    "\n",
    "Region Proposal Network (RPN)"
   ]
  },
  {
   "cell_type": "markdown",
   "metadata": {},
   "source": [
    "## 3.1 Region Proposal Networks\n",
    "\n",
    "* Input: an image of any size\n",
    "* Output: a set of recangular object proposals, each with an objectness score\n",
    "\n",
    "Slide a small networ over the convolutional feature map output, $n \\times n$ spatial window => lower-dimensional feature\n",
    "\n",
    "$n = 3$"
   ]
  },
  {
   "cell_type": "markdown",
   "metadata": {},
   "source": [
    "### 3.1.1 Anchors\n",
    "\n",
    "$k$ proposals in each location\n",
    "\n",
    "=> \n",
    "\n",
    "* reg layer: $4k$ outputs\n",
    "* cls layer: $2k$ scores (whether it is an object)\n",
    "\n",
    "![](./images/086F3268.png)\n",
    "\n",
    "3 scales and 3 aspect ratios, yielding $k = 9$\n",
    "\n",
    "$WHk$ anchors"
   ]
  },
  {
   "cell_type": "markdown",
   "metadata": {},
   "source": [
    "### 3.1.2 Loss Function\n",
    "\n",
    "$$L(\\{p_i\\}, \\{t_i\\}) = \\frac{1}{N_{cls}} \\sum_i L_{cls} (p_i, p_i^*) + \\lambda \\frac{1}{N_{reg}} \\sum_i p_i^* L_{reg} (t_i, t_i^*)$$\n",
    "\n",
    "$$L_{reg}(t_i, t_i^*) = R(t_i - t_i^*)$$ (R is smooth $L_1$ in Fast R-CNN)\n",
    "\n",
    "$L_{cls}$ is the log loss\n",
    "\n",
    "* $t_x = (x - x_a) / w_a$\n",
    "* $t_y = (y - y_a) / h_a$\n",
    "* $t_w = \\log(w / w_a)$\n",
    "* $t_h = \\log(h / h_a)$"
   ]
  },
  {
   "cell_type": "markdown",
   "metadata": {},
   "source": [
    "### 3.1.3 Training RPNs\n",
    "\n",
    "randomly sample 256 anchors in an image\n",
    "\n",
    "the sampled positive and negative anchors have a ratio of up to 1:1\n",
    "\n",
    "a zero-mean Gaussian distribution with standard deviation 0.01\n",
    "\n",
    "a learning rate of 0.001 for 60k mini-batches, and 0.0001 for the next 20k mini-batches\n",
    "\n",
    "use a momentum of 0.9 and a weight decay of 0.0005"
   ]
  },
  {
   "cell_type": "markdown",
   "metadata": {},
   "source": [
    "## 3.2 Sharing Features for RPN and Fast R-CNN\n",
    "\n",
    "* Train the RPN\n",
    "* Train a separate detection network by Fast R-CNN using the proposals of step-1\n",
    "* Use the detector network to initialize RPN training, fine-tune the layers unique to RPN\n",
    "* Keep the shared convolutional layers fixed, fine-tune the unique layers unique to Fast R-CNN"
   ]
  }
 ],
 "metadata": {
  "kernelspec": {
   "display_name": "Python 2",
   "language": "python",
   "name": "python2"
  },
  "language_info": {
   "codemirror_mode": {
    "name": "ipython",
    "version": 2
   },
   "file_extension": ".py",
   "mimetype": "text/x-python",
   "name": "python",
   "nbconvert_exporter": "python",
   "pygments_lexer": "ipython2",
   "version": "2.7.12"
  }
 },
 "nbformat": 4,
 "nbformat_minor": 2
}
