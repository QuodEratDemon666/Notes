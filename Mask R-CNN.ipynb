{
 "cells": [
  {
   "cell_type": "markdown",
   "metadata": {},
   "source": [
    "![](./images/04689817.png)\n",
    "\n",
    "https://arxiv.org/pdf/1703.06870.pdf\n",
    "\n",
    "Add a third branch, output a binary mask for each RoI."
   ]
  },
  {
   "cell_type": "markdown",
   "metadata": {},
   "source": [
    "$L = L_{cls} + L_{box} + L_{mask}$\n",
    "\n",
    "* $L_{cls}$: classification loss\n",
    "* $L_{box}$: bounding-box loss\n",
    "* $L_{mask}$: per-pixel sigmoid and average binary cross-entropy loss only defined on the $k$-th mask"
   ]
  }
 ],
 "metadata": {
  "kernelspec": {
   "display_name": "Python 2",
   "language": "python",
   "name": "python2"
  },
  "language_info": {
   "codemirror_mode": {
    "name": "ipython",
    "version": 2
   },
   "file_extension": ".py",
   "mimetype": "text/x-python",
   "name": "python",
   "nbconvert_exporter": "python",
   "pygments_lexer": "ipython2",
   "version": "2.7.12"
  }
 },
 "nbformat": 4,
 "nbformat_minor": 2
}
